{
  "cells": [
    {
      "cell_type": "markdown",
      "metadata": {
        "id": "G7SJAzLZJwLM"
      },
      "source": [
        "# Plot Y-Data Distribution\n",
        "월리가 없는 이미지가 너무 많기 때문에 편향되어있다.\n",
        "클래스 가중치를 주고 비율을 맞춰준다.\n",
        "\n",
        "https://keras.io/models/sequential/"
      ]
    },
    {
      "cell_type": "code",
      "execution_count": null,
      "metadata": {
        "colab": {
          "base_uri": "https://localhost:8080/",
          "height": 337
        },
        "id": "ZVcf-w_nJwLN",
        "outputId": "4bf9e6fa-1d7f-4367-c580-c762e4fe021e"
      },
      "outputs": [
        {
          "name": "stdout",
          "output_type": "stream",
          "text": [
            "88666846 37154\n"
          ]
        },
        {
          "name": "stderr",
          "output_type": "stream",
          "text": [
            "/usr/local/lib/python3.7/dist-packages/seaborn/distributions.py:2619: FutureWarning: `distplot` is a deprecated function and will be removed in a future version. Please adapt your code to use either `displot` (a figure-level function with similar flexibility) or `histplot` (an axes-level function for histograms).\n",
            "  warnings.warn(msg, FutureWarning)\n"
          ]
        },
        {
          "data": {
            "image/png": "[encoded data removed]",
            "text/plain": [
              "<Figure size 432x288 with 1 Axes>"
            ]
          },
          "metadata": {
            "needs_background": "light"
          },
          "output_type": "display_data"
        }
      ],
      "source": [
        "#월리가 있는 곳은 1, 없는 곳은 0\n",
        "freq0 = np.sum(labels==0)       # labels==0 (True) 일때 합계 (88666846개)\n",
        "freq1 = np.sum(labels==1)       # labels==1 (False) 일때 합계 (37154개)\n",
        "\n",
        "print(freq0, freq1)\n",
        "\n",
        "sns.distplot(labels.flatten(), kde=False, hist_kws={'log':True})  \n",
        "plt.show()"
      ]
    },
    {
      "cell_type": "markdown",
      "metadata": {
        "id": "4WQriqu-gZo2"
      },
      "source": [
        "distplot() : 전체 라벨을 1차원으로 만들어준다.\n",
        " - kde : 밀집도 그래프\n",
        " - hist_kws : dict()형 매개변수로 그래프를 꾸미기"
      ]
    },
    {
      "cell_type": "markdown",
      "metadata": {
        "id": "iKq1R3UEJwLN"
      },
      "source": [
        "# Make Class Weights (0 and 1)"
      ]
    },
    {
      "cell_type": "code",
      "execution_count": null,
      "metadata": {
        "colab": {
          "base_uri": "https://localhost:8080/",
          "height": 282
        },
        "id": "AhCGmdR2JwLN",
        "outputId": "9b22b9a1-0bd3-485e-d1e6-e0dbb9d32df2"
      },
      "outputs": [
        {
          "data": {
            "text/plain": [
              "<matplotlib.colorbar.Colorbar at 0x7f268af068d0>"
            ]
          },
          "execution_count": 37,
          "metadata": {},
          "output_type": "execute_result"
        },
        {
          "data": {
            "image/png": "[encoded data removed]",
            "text/plain": [
              "<Figure size 432x288 with 4 Axes>"
            ]
          },
          "metadata": {
            "needs_background": "light"
          },
          "output_type": "display_data"
        }
      ],
      "source": [
        "sample_weights = np.zeros((6, PANNEL_SIZE * PANNEL_SIZE, 2))\n",
        "\n",
        "# sample_weights의 모든 층의 모든 행의 0번 열[:,:,0], 1번 열[:,:,1]\n",
        "sample_weights[:,:,0] = 1. / freq0                      # '1' 을 '월리가 없는 곳의 합계'로 나눠서 colorbar의 범위를 늘려준다.\n",
        "sample_weights[:,:,1] = 1.\n",
        "\n",
        "plt.subplot(1,2,1)                                      # 1x2(행x열)의 subplot에서 첫번째 subplot\n",
        "plt.imshow(sample_weights[0,:,0].reshape((224, 224)))   # 0번층의 모든행의 0번 열\n",
        "plt.colorbar()\n",
        "\n",
        "plt.subplot(1,2,2)                                      # 1x2(행x열)의 subplot에서 두번째 subplot\n",
        "plt.imshow(sample_weights[0,:,1].reshape((224, 224)))   # 0번층의 모든행의 1번 열"
      ]
    },
    {
      "cell_type": "markdown",
      "metadata": {
        "id": "rqqv0QLMhrKU"
      },
      "source": [
        "월리가 있는 부분과 없는 부분의 차이를 보정하기 위해 가중치(weight)를 주었다.   \n",
        "\n",
        "class weight : 클래스 불균형을 해결하기 위한 방법\n",
        " - 샘플 수가 상대적으로 적은 Class 쪽에 가중치를 부여하는 방식이다.\n",
        " - 클래스 별 가중치 값을 dictionary 형태로 저장해서 넘겨준다."
      ]
    },
    {
      "cell_type": "markdown",
      "metadata": {
        "id": "uMl-NiKlJwLO"
      },
      "source": [
        "# Train\n",
        " 구축한 모델을 바탕으로 학습 시키기.\n"
      ]
    },
    {
      "cell_type": "code",
      "execution_count": null,
      "metadata": {
        "colab": {
          "base_uri": "https://localhost:8080/",
          "height": 418
        },
        "id": "TsPeIk9DJwLO",
        "outputId": "22cc7bbf-7727-44a0-9c27-0502884cfb6c",
        "scrolled": false
      },
      "outputs": [
        {
          "name": "stderr",
          "output_type": "stream",
          "text": [
            "/usr/local/lib/python3.7/dist-packages/ipykernel_launcher.py:25: UserWarning: `Model.fit_generator` is deprecated and will be removed in a future version. Please use `Model.fit`, which supports generators.\n"
          ]
        },
        {
          "ename": "ValueError",
          "evalue": "ignored",
          "output_type": "error",
          "traceback": [
            "\u001b[0;31m---------------------------------------------------------------------------\u001b[0m",
            "\u001b[0;31mValueError\u001b[0m                                Traceback (most recent call last)",
            "\u001b[0;32m<ipython-input-45-6caddb23c5ab>\u001b[0m in \u001b[0;36m<module>\u001b[0;34m\u001b[0m\n\u001b[1;32m     23\u001b[0m     callbacks=[\n\u001b[1;32m     24\u001b[0m         \u001b[0mprint_callback\u001b[0m\u001b[0;34m,\u001b[0m\u001b[0;34m\u001b[0m\u001b[0;34m\u001b[0m\u001b[0m\n\u001b[0;32m---> 25\u001b[0;31m         \u001b[0mReduceLROnPlateau\u001b[0m\u001b[0;34m(\u001b[0m\u001b[0mmonitor\u001b[0m\u001b[0;34m=\u001b[0m\u001b[0;34m'loss'\u001b[0m\u001b[0;34m,\u001b[0m \u001b[0mfactor\u001b[0m\u001b[0;34m=\u001b[0m\u001b[0;36m0.2\u001b[0m\u001b[0;34m,\u001b[0m \u001b[0mpatience\u001b[0m\u001b[0;34m=\u001b[0m\u001b[0;36m100\u001b[0m\u001b[0;34m,\u001b[0m \u001b[0mverbose\u001b[0m\u001b[0;34m=\u001b[0m\u001b[0;36m1\u001b[0m\u001b[0;34m,\u001b[0m \u001b[0mmode\u001b[0m\u001b[0;34m=\u001b[0m\u001b[0;34m'auto'\u001b[0m\u001b[0;34m,\u001b[0m \u001b[0mmin_lr\u001b[0m\u001b[0;34m=\u001b[0m\u001b[0;36m1e-05\u001b[0m\u001b[0;34m)\u001b[0m\u001b[0;34m\u001b[0m\u001b[0;34m\u001b[0m\u001b[0m\n\u001b[0m\u001b[1;32m     26\u001b[0m     ]\n\u001b[1;32m     27\u001b[0m )\n",
            "\u001b[0;32m/usr/local/lib/python3.7/dist-packages/keras/engine/training.py\u001b[0m in \u001b[0;36mfit_generator\u001b[0;34m(self, generator, steps_per_epoch, epochs, verbose, callbacks, validation_data, validation_steps, validation_freq, class_weight, max_queue_size, workers, use_multiprocessing, shuffle, initial_epoch)\u001b[0m\n\u001b[1;32m   2272\u001b[0m         \u001b[0muse_multiprocessing\u001b[0m\u001b[0;34m=\u001b[0m\u001b[0muse_multiprocessing\u001b[0m\u001b[0;34m,\u001b[0m\u001b[0;34m\u001b[0m\u001b[0;34m\u001b[0m\u001b[0m\n\u001b[1;32m   2273\u001b[0m         \u001b[0mshuffle\u001b[0m\u001b[0;34m=\u001b[0m\u001b[0mshuffle\u001b[0m\u001b[0;34m,\u001b[0m\u001b[0;34m\u001b[0m\u001b[0;34m\u001b[0m\u001b[0m\n\u001b[0;32m-> 2274\u001b[0;31m         initial_epoch=initial_epoch)\n\u001b[0m\u001b[1;32m   2275\u001b[0m \u001b[0;34m\u001b[0m\u001b[0m\n\u001b[1;32m   2276\u001b[0m   \u001b[0;34m@\u001b[0m\u001b[0mdoc_controls\u001b[0m\u001b[0;34m.\u001b[0m\u001b[0mdo_not_generate_docs\u001b[0m\u001b[0;34m\u001b[0m\u001b[0;34m\u001b[0m\u001b[0m\n",
            "\u001b[0;32m/usr/local/lib/python3.7/dist-packages/keras/utils/traceback_utils.py\u001b[0m in \u001b[0;36merror_handler\u001b[0;34m(*args, **kwargs)\u001b[0m\n\u001b[1;32m     65\u001b[0m     \u001b[0;32mexcept\u001b[0m \u001b[0mException\u001b[0m \u001b[0;32mas\u001b[0m \u001b[0me\u001b[0m\u001b[0;34m:\u001b[0m  \u001b[0;31m# pylint: disable=broad-except\u001b[0m\u001b[0;34m\u001b[0m\u001b[0;34m\u001b[0m\u001b[0m\n\u001b[1;32m     66\u001b[0m       \u001b[0mfiltered_tb\u001b[0m \u001b[0;34m=\u001b[0m \u001b[0m_process_traceback_frames\u001b[0m\u001b[0;34m(\u001b[0m\u001b[0me\u001b[0m\u001b[0;34m.\u001b[0m\u001b[0m__traceback__\u001b[0m\u001b[0;34m)\u001b[0m\u001b[0;34m\u001b[0m\u001b[0;34m\u001b[0m\u001b[0m\n\u001b[0;32m---> 67\u001b[0;31m       \u001b[0;32mraise\u001b[0m \u001b[0me\u001b[0m\u001b[0;34m.\u001b[0m\u001b[0mwith_traceback\u001b[0m\u001b[0;34m(\u001b[0m\u001b[0mfiltered_tb\u001b[0m\u001b[0;34m)\u001b[0m \u001b[0;32mfrom\u001b[0m \u001b[0;32mNone\u001b[0m\u001b[0;34m\u001b[0m\u001b[0;34m\u001b[0m\u001b[0m\n\u001b[0m\u001b[1;32m     68\u001b[0m     \u001b[0;32mfinally\u001b[0m\u001b[0;34m:\u001b[0m\u001b[0;34m\u001b[0m\u001b[0;34m\u001b[0m\u001b[0m\n\u001b[1;32m     69\u001b[0m       \u001b[0;32mdel\u001b[0m \u001b[0mfiltered_tb\u001b[0m\u001b[0;34m\u001b[0m\u001b[0;34m\u001b[0m\u001b[0m\n",
            "\u001b[0;32m/usr/local/lib/python3.7/dist-packages/keras/engine/data_adapter.py\u001b[0m in \u001b[0;36m_configure_dataset_and_inferred_steps\u001b[0;34m(***failed resolving arguments***)\u001b[0m\n\u001b[1;32m   1177\u001b[0m     \u001b[0;32mdel\u001b[0m \u001b[0mx\u001b[0m\u001b[0;34m\u001b[0m\u001b[0;34m\u001b[0m\u001b[0m\n\u001b[1;32m   1178\u001b[0m     \u001b[0mdataset\u001b[0m \u001b[0;34m=\u001b[0m \u001b[0mself\u001b[0m\u001b[0;34m.\u001b[0m\u001b[0m_adapter\u001b[0m\u001b[0;34m.\u001b[0m\u001b[0mget_dataset\u001b[0m\u001b[0;34m(\u001b[0m\u001b[0;34m)\u001b[0m\u001b[0;34m\u001b[0m\u001b[0;34m\u001b[0m\u001b[0m\n\u001b[0;32m-> 1179\u001b[0;31m     \u001b[0;32mif\u001b[0m \u001b[0mclass_weight\u001b[0m\u001b[0;34m:\u001b[0m\u001b[0;34m\u001b[0m\u001b[0;34m\u001b[0m\u001b[0m\n\u001b[0m\u001b[1;32m   1180\u001b[0m       \u001b[0mdataset\u001b[0m \u001b[0;34m=\u001b[0m \u001b[0mdataset\u001b[0m\u001b[0;34m.\u001b[0m\u001b[0mmap\u001b[0m\u001b[0;34m(\u001b[0m\u001b[0m_make_class_weight_map_fn\u001b[0m\u001b[0;34m(\u001b[0m\u001b[0mclass_weight\u001b[0m\u001b[0;34m)\u001b[0m\u001b[0;34m)\u001b[0m\u001b[0;34m\u001b[0m\u001b[0;34m\u001b[0m\u001b[0m\n\u001b[1;32m   1181\u001b[0m     \u001b[0mself\u001b[0m\u001b[0;34m.\u001b[0m\u001b[0m_inferred_steps\u001b[0m \u001b[0;34m=\u001b[0m \u001b[0mself\u001b[0m\u001b[0;34m.\u001b[0m\u001b[0m_infer_steps\u001b[0m\u001b[0;34m(\u001b[0m\u001b[0msteps_per_epoch\u001b[0m\u001b[0;34m,\u001b[0m \u001b[0mdataset\u001b[0m\u001b[0;34m)\u001b[0m\u001b[0;34m\u001b[0m\u001b[0;34m\u001b[0m\u001b[0m\n",
            "\u001b[0;31mValueError\u001b[0m: The truth value of an array with more than one element is ambiguous. Use a.any() or a.all()"
          ]
        }
      ],
      "source": [
        "# 위에서 만든 seg_gen_mix() 함수를 사용하여 각 배치마다 이미지들의 비율을 맞춰주고, 패널사이즈를 225x225로 통일시켜준다. \n",
        "gen_mix = seg_gen_mix(waldo_sub_imgs, waldo_sub_labels, imgs, labels, tot_bs=6, prop=0.34, out_sz=(PANNEL_SIZE, PANNEL_SIZE))\n",
        "\n",
        "# 각 epoch가 끝날 때마다 돌아갈 함수\n",
        "def on_epoch_end(epoch, logs):\n",
        "    print('\\r', 'Epoch:%5d - loss: %.4f - acc: %.4f' % (epoch, logs['loss'], logs['acc']), end='')\n",
        "\n",
        "# 각 에포크가 끝날 때 위에서 정의한 기능(on_epoch_end 함수)이 돌아가도록 한다.\n",
        "print_callback = LambdaCallback(on_epoch_end=on_epoch_end)\n",
        "\n",
        "# 모델학습 시킨 것을 history에 넣어준다.\n",
        "history = model.fit_generator(\n",
        "    gen_mix, steps_per_epoch=6, epochs=500,\n",
        "    class_weight=sample_weights,\n",
        "    verbose=0,          \n",
        "    callbacks=[\n",
        "        print_callback,                           \n",
        "        ReduceLROnPlateau(monitor='loss', factor=0.2, patience=100, verbose=1, mode='auto', min_lr=1e-05)\n",
        "    ]\n",
        ")\n",
        "                         \n",
        "\n",
        "# save() : ‘모델 아키텍처’, ‘모델 가중치’를 ‘h5’파일 형식으로 모두 저장한다.\n",
        "model.save('model.h5')\n",
        "\n",
        "# 그래프 그리기\n",
        "plt.figure(figsize=(12, 4))         # 그림판 크기\n",
        "plt.subplot(1, 2, 1)                # # 1x2(행x열)의 subplot에서 첫번째 subplot\n",
        "plt.title('loss')                   # loss 값\n",
        "plt.plot(history.history['loss'])   # loss 값 그리기\n",
        "plt.subplot(1, 2, 2)                # 1x2(행x열)의 subplot에서 두번째 subplot\n",
        "plt.title('accuracy')               # accuracy 값\n",
        "plt.plot(history.history['acc'])    # accuracy 값 그리기"
      ]
    },
    {
      "cell_type": "markdown",
      "metadata": {
        "id": "6AOTNGBuisp8"
      },
      "source": [
        "1. on_epoch_end() : 각 epoch가 끝날 때마다 돌아갈 함수   \n",
        "      \n",
        "       각 epoch마다 아래의 값들이 들어있다.\n",
        "       - loss(훈련 손실값)\n",
        "       - acc(훈련 정확도)\n",
        "       - val_loss(검증 손실값)\n",
        "       - val_acc(검증 정확도)   \n",
        "\n",
        "\n",
        "2. LamdaCallback : 간단한 커스텀 콜백을 on-the-fly로 생성할 수 있는 콜백\n",
        "- Callback : 모델 학습 중 호출할 수 있는 기능 의미\n",
        "- 콜백을 사용해서 학습 중인 모델의 내부 상태와 통계값 확인\n",
        "\n",
        "\n",
        "3. 1. fit_generator() : 이미지를 담고 있는 배치로 학습을 시키기 때문에 fit_generator()를 사용   \n",
        "\n",
        "          gen_mix : 학습시킬 데이터\n",
        "          steps_per_epoch=6 : 한 ephch당 스텝 6번\n",
        "          epochs=500 : 총 500 epoch \n",
        "          class_weight=sample_weights : 샘플 수가 상대적으로 적은 Class 쪽에 가중치 부여 \n",
        "          verbose=0 : 훈련과정 생략, 1 (default) : 훈련과정 출력 등        \n",
        "          callbacks[] : 콜백의 리스트를 전달한다.\n",
        "  \n",
        "  2. ReduceLROnPlateau() : 모델의 개선이 없을 경우, Learning Rate를 조절해 모델의 개선을 유도하는 콜백함수\n",
        "          monitor : loss가 더이상 감소되지 않을 경우 적용,  \n",
        "          factor :Learning rate 0.2씩 감소 (새로운 Learning rate = learning rate * factor)\n",
        "          10번 training을 했는데도 연속해서 더이상 monitor되는 값의 개선이 없을 경우, ReduceLROnPlateau 콜백함수 실행\n",
        "          verbose = 0 : 종료, 1 : EarlyStopping이 적용될 때 화면에 적용되었다고 나타남.\n",
        "          mode : monitor되는 값. 모델이 자동으로 판단하도록 설정.\n",
        "          min_lr : Learning rate의 하한선 지정. Learning rate가 1e-05보다 작은 값이 나와도 전부 1e-05 적용\n",
        "\n"
      ]
    },
    {
      "cell_type": "markdown",
      "metadata": {
        "id": "1NQPgbPqxNKa"
      },
      "source": [
        "### ※ .fit_generator의 class_weight 부분 문제 발견\n",
        " 원본 코드는 그 당시 원활하게 진행되어 보였으나 현재는 오류가 나서 이 부분부터 진행이 원활하지 않았다. 그래서 우리는 오류가 나는 이유에 대해 찾아보았다.\n",
        "하지만 자료가 많이 없었었다. 심지어 .fit_generator() 메소드는 Keras에서 곧 사라질 메소드라고 한다.   \n",
        "\n",
        " 우리는 .fit()으로 메소드를 변경하여 프로젝트를 진행해야하나 고민을 했지만 여기에서 또 하나의 의문점이 들었다. '월리가가 있다, 없다 로 나뉘는데 왜 Binary cross entropy를 사용하는 이진분류 문제로 풀어낸 것이 아닌 .fit_generator() 메서드를 사용하여 class weight으로 접근 했을까?' 이 부분에 대해선 선생님께 여쭤보았다.   \n",
        " \n",
        " 선생님께선 '이 코드는 단순히 월리가 있다, 없다가 아닌 다양한 캐릭터들을 분류하여 월리의 확률이 높은 캐릭터를 찾아내는 방식으로 접근한 것으로 보인다'라고 말씀해주셨다. 이 경우는 soft max를 사용해도 가중치로 충분히 분류가 가능하기 때문이다.\n",
        "\n",
        "\n",
        "\n",
        "\n",
        "\n",
        "\n"
      ]
    },
    {
      "cell_type": "markdown",
      "metadata": {
        "id": "F9n4FbQS4Mu1"
      },
      "source": [
        "### ※ 문제에 대한 결론\n",
        "'월리를 찾아라'의 주제는 CNN을 이용한 접근보다는 'Tensorflow Object Detection API'를 사용하는 접근이 더 적당해 보인다.   \n",
        "1. 더 직관적인 소스코드로 작성이 가능하다.\n",
        "2. Keras의 패키지들이 하나 둘 막히는 이유가 있을 것이라고 생각된다. 문서화가 잘 되어있는 Tensorflow를 사용하도록 하자."
      ]
    }
  ],
  "metadata": {
    "colab": {
      "provenance": []
    },
    "kernelspec": {
      "display_name": "Python 3 (ipykernel)",
      "language": "python",
      "name": "python3"
    },
    "language_info": {
      "codemirror_mode": {
        "name": "ipython",
        "version": 3
      },
      "file_extension": ".py",
      "mimetype": "text/x-python",
      "name": "python",
      "nbconvert_exporter": "python",
      "pygments_lexer": "ipython3",
      "version": "3.9.12"
    },
    "vscode": {
      "interpreter": {
        "hash": "a077222d77dfe082b8f1dd562ad70e458ac2ab76993a0b248ab0476e32e9e8dd"
      }
    }
  },
  "nbformat": 4,
  "nbformat_minor": 0
}
